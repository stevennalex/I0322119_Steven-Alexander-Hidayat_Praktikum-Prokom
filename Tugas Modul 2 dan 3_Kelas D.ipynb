{
 "cells": [
  {
   "cell_type": "code",
   "execution_count": 1,
   "metadata": {},
   "outputs": [
    {
     "name": "stdout",
     "output_type": "stream",
     "text": [
      "Steven Alexander Hidayat\n",
      "I0322119\n",
      "D\n"
     ]
    }
   ],
   "source": [
    "print(input(\"Nama: \"))\n",
    "print(input(\"NIM: \"))\n",
    "print(input(\"Kelas: \"))"
   ]
  },
  {
   "attachments": {},
   "cell_type": "markdown",
   "metadata": {},
   "source": [
    "## 1."
   ]
  },
  {
   "attachments": {},
   "cell_type": "markdown",
   "metadata": {},
   "source": [
    "diketahui dimensi sebuah aquarium tanpa penutup atas sebagai berikut:\n",
    "\n",
    "```python\n",
    "p = 11\n",
    "l = 1.99\n",
    "t = 25.87\n",
    "```\n",
    "buatkan program sederhana untuk menghitung diagonal tiap sisi dan luas permukaan aquarium tersebut tanpa menggunakan module math."
   ]
  },
  {
   "cell_type": "code",
   "execution_count": 4,
   "metadata": {},
   "outputs": [
    {
     "name": "stdout",
     "output_type": "stream",
     "text": [
      "Diagonal sisi depan = 28.11150831954771\n",
      "Diagonal sisi belakang = 28.11150831954771\n",
      "Diagonal sisi bawah = 11.17855536283647\n",
      "Diagonal sisi kiri = 25.946425572706545\n",
      "Diagonal sisi kanan = 25.946425572706545\n",
      "Luas permukaan = 693.9925999999999\n"
     ]
    }
   ],
   "source": [
    "p = 11\n",
    "l = 1.99\n",
    "t = 25.87\n",
    "\n",
    "d_depanbelakang = ((p ** 2 + t ** 2) ** (1/2))\n",
    "print('Diagonal sisi depan =', d_depanbelakang)\n",
    "print('Diagonal sisi belakang =', d_depanbelakang)\n",
    "\n",
    "d_bawah = ((p ** 2 + l ** 2) ** (1/2))\n",
    "print('Diagonal sisi bawah =', d_bawah)\n",
    "\n",
    "d_kirikanan = ((l ** 2 + t ** 2) ** (1/2))\n",
    "print('Diagonal sisi kiri =', d_kirikanan)\n",
    "print('Diagonal sisi kanan =', d_kirikanan)\n",
    "\n",
    "luas_permukaan = (2 * ((p * t) + (l * t)) + p * l)\n",
    "print('Luas permukaan =', luas_permukaan)"
   ]
  },
  {
   "attachments": {},
   "cell_type": "markdown",
   "metadata": {},
   "source": [
    "## 2."
   ]
  },
  {
   "attachments": {},
   "cell_type": "markdown",
   "metadata": {},
   "source": [
    "diberikan data nilai mahasiswa sebagai berikut:"
   ]
  },
  {
   "cell_type": "code",
   "execution_count": 1,
   "metadata": {},
   "outputs": [],
   "source": [
    "nilai = {\n",
    "    'Frank': 80,\n",
    "    'Abagnale': 75,\n",
    "    'Cobb': 90,\n",
    "    'Andy Dufresne': 85,\n",
    "    'Ariadne': 70\n",
    "}"
   ]
  },
  {
   "cell_type": "code",
   "execution_count": 1,
   "metadata": {},
   "outputs": [
    {
     "name": "stdout",
     "output_type": "stream",
     "text": [
      "Rata-rata dari 5 nilai yang ada yakni 80.0\n",
      "Cobb memiliki nilai tertinggi\n",
      "Ariadne memiliki nilai terendah\n"
     ]
    }
   ],
   "source": [
    "nilai = {\n",
    "    'Frank': 80,\n",
    "    'Abagnale': 75,\n",
    "    'Cobb': 90,\n",
    "    'Andy Dufresne': 85,\n",
    "    'Ariadne': 70\n",
    "}\n",
    "\n",
    "rata_rata = ((nilai['Frank'] + nilai['Abagnale'] + nilai['Cobb'] + nilai['Andy Dufresne'] + nilai['Ariadne'])/5)\n",
    "print('Rata-rata dari 5 nilai yang ada yakni', rata_rata)\n",
    "\n",
    "a = nilai['Frank']\n",
    "b = nilai['Abagnale']\n",
    "c = nilai['Cobb']\n",
    "d = nilai['Andy Dufresne']\n",
    "e = nilai['Ariadne']\n",
    "\n",
    "\n",
    "nilaimax = max(nilai, key=nilai.get)\n",
    "nilaimin = min(nilai, key=nilai.get)\n",
    "print(f'{nilaimax} memiliki nilai tertinggi')\n",
    "print(f'{nilaimin} memiliki nilai terendah')\n",
    "\n",
    "\n",
    "\n"
   ]
  },
  {
   "attachments": {},
   "cell_type": "markdown",
   "metadata": {},
   "source": [
    "buatlah program sederhana untuk menghitung nilai rata-rata semua mahasiswa dan mencari siapa yang mendapatkan nilai tertinggi dan nilai terendah. \n",
    "> *note: tidak perlu menggunakan loops untuk membuat program nya*"
   ]
  },
  {
   "attachments": {},
   "cell_type": "markdown",
   "metadata": {},
   "source": [
    "## 3. "
   ]
  },
  {
   "attachments": {},
   "cell_type": "markdown",
   "metadata": {},
   "source": [
    "diberikan list aslab sebagai berikut:\n",
    "```python\n",
    "list_aslab = [\n",
    "    {\"nama\": \"Berlian Safri Prakoso\", \"nim\": \"I0320017\", \"kontak\": \"0858XXXXXXXX\"},\n",
    "    {\"nama\": \"Halidya Siti Hanifah\", \"nim\": \"I0320044\", \"kontak\": \"0878XXXXXXXX\"},\n",
    "    {\"nama\": \"Nurki Putra Mahardika\", \"nim\": \"I0320076\", \"kontak\": \"0877XXXXXXXX\"},\n",
    "    {\"nama\": \"Aji Manarul Aziz\", \"nim\": \"I0320119\", \"kontak\": \"0812XXXXXXXX\"},\n",
    "    {\"nama\": \"Alica Ayu Fitriani\", \"nim\": \"I0320121\", \"kontak\": \"0896XXXXXXXX\"},\n",
    "    {\"nama\": \"Dendy Halim Kusuma\", \"nim\": \"I0320125\", \"kontak\": \"0822XXXXXXXX\"}\n",
    "]\n",
    "```\n",
    "* **A** Tuliskan kode untuk mengakses informasi tentang \"nama\" dari semua aslab mulai dari index 1 sampai 5\n",
    "* **B** Tambahkan informasi berikut pada data aslab:\n",
    "```python\n",
    "    surel = [\"berlian@student.uns.ac.id\",\n",
    "          \"halidya@student.uns.ac.id\",\n",
    "          \"nurki@student.uns.ac.id\",\n",
    "          \"manarul@student.uns.ac.id\",\n",
    "          \"alica@student.uns.ac.id\",\n",
    "          \"dendy@student.uns.ac.id\"]\n",
    "```\n",
    "> *note: kalian hanya boleh menggunakan key-value pair yang disebutkan di dalam teks, tanpa menggunakan informasi tambahan yang diambil pada list yang ada*"
   ]
  },
  {
   "cell_type": "code",
   "execution_count": 2,
   "metadata": {},
   "outputs": [
    {
     "name": "stdout",
     "output_type": "stream",
     "text": [
      "Halidya Siti Hanifah\n",
      "Nurki Putra Mahardika\n",
      "Aji Manarul Aziz\n",
      "Alica Ayu Fitriani\n",
      "Dendy Halim Kusuma\n",
      "\n",
      "{'nama': 'Berlian Safri Prakoso', 'nim': 'I0320017', 'kontak': '0858XXXXXXXX', 'surel': 'berlian@student.uns.ac.id'}\n",
      "{'nama': 'Halidya Siti Hanifah', 'nim': 'I0320044', 'kontak': '0878XXXXXXXX', 'surel': 'halidya@student.uns.ac.id'}\n",
      "{'nama': 'Nurki Putra Mahardika', 'nim': 'I0320076', 'kontak': '0877XXXXXXXX', 'surel': 'nurki@student.uns.ac.id'}\n",
      "{'nama': 'Aji Manarul Aziz', 'nim': 'I0320119', 'kontak': '0812XXXXXXXX', 'surel': 'manarul@student.uns.ac.id'}\n",
      "{'nama': 'Alica Ayu Fitriani', 'nim': 'I0320121', 'kontak': '0896XXXXXXXX', 'surel': 'alica@student.uns.ac.id'}\n",
      "{'nama': 'Dendy Halim Kusuma', 'nim': 'I0320125', 'kontak': '0822XXXXXXXX', 'surel': 'dendy@student.uns.ac.id'}\n"
     ]
    }
   ],
   "source": [
    "list_aslab = [\n",
    "    {\"nama\": \"Berlian Safri Prakoso\", \"nim\": \"I0320017\", \"kontak\": \"0858XXXXXXXX\"},\n",
    "    {\"nama\": \"Halidya Siti Hanifah\", \"nim\": \"I0320044\", \"kontak\": \"0878XXXXXXXX\"},\n",
    "    {\"nama\": \"Nurki Putra Mahardika\", \"nim\": \"I0320076\", \"kontak\": \"0877XXXXXXXX\"},\n",
    "    {\"nama\": \"Aji Manarul Aziz\", \"nim\": \"I0320119\", \"kontak\": \"0812XXXXXXXX\"},\n",
    "    {\"nama\": \"Alica Ayu Fitriani\", \"nim\": \"I0320121\", \"kontak\": \"0896XXXXXXXX\"},\n",
    "    {\"nama\": \"Dendy Halim Kusuma\", \"nim\": \"I0320125\", \"kontak\": \"0822XXXXXXXX\"}\n",
    "]\n",
    "\n",
    "surel = [\"berlian@student.uns.ac.id\",\n",
    "          \"halidya@student.uns.ac.id\",\n",
    "          \"nurki@student.uns.ac.id\",\n",
    "          \"manarul@student.uns.ac.id\",\n",
    "          \"alica@student.uns.ac.id\",\n",
    "          \"dendy@student.uns.ac.id\"]\n",
    "\n",
    "for i in range(1,6):\n",
    "    print(list_aslab[i]['nama'])\n",
    "\n",
    "print()\n",
    "\n",
    "for i in range(len(list_aslab)):\n",
    "    list_aslab[i]['surel'] = surel[i]\n",
    "\n",
    "for list_aslab2 in list_aslab:\n",
    "    print(list_aslab2)"
   ]
  }
 ],
 "metadata": {
  "kernelspec": {
   "display_name": "Python 3",
   "language": "python",
   "name": "python3"
  },
  "language_info": {
   "codemirror_mode": {
    "name": "ipython",
    "version": 3
   },
   "file_extension": ".py",
   "mimetype": "text/x-python",
   "name": "python",
   "nbconvert_exporter": "python",
   "pygments_lexer": "ipython3",
   "version": "3.10.7"
  },
  "orig_nbformat": 4,
  "vscode": {
   "interpreter": {
    "hash": "5addf786bcd861d1ce5006f23111f8cbb206731e5b61b0a5632ba9e0252558a8"
   }
  }
 },
 "nbformat": 4,
 "nbformat_minor": 2
}
