{
 "cells": [
  {
   "cell_type": "code",
   "execution_count": 1,
   "metadata": {},
   "outputs": [
    {
     "name": "stdout",
     "output_type": "stream",
     "text": [
      "Steven Alexander Hidayat\n",
      "I0322119\n",
      "D\n"
     ]
    }
   ],
   "source": [
    "print(input(\"Nama: \"))\n",
    "print(input(\"NIM: \"))\n",
    "print(input(\"Kelas: \"))"
   ]
  },
  {
   "attachments": {},
   "cell_type": "markdown",
   "metadata": {},
   "source": [
    "## 1."
   ]
  },
  {
   "attachments": {},
   "cell_type": "markdown",
   "metadata": {},
   "source": [
    "Buatlah program yang menampilkan salam “Selamat Pagi” dari berbagai negara {Inggris, Perancis, Italia, Spanyol, Jepang, Korea} dengan dua input dari user yaitu bahasa dan diikuti nama user.<br>\n",
    "<br>Ex : \n",
    "<br>\"Ohayou, Onii Chan\"\n",
    "> *note: Kerjakan soal ini dengan percabangan*"
   ]
  },
  {
   "cell_type": "code",
   "execution_count": 2,
   "metadata": {},
   "outputs": [
    {
     "name": "stdout",
     "output_type": "stream",
     "text": [
      "좋은 아침이에요, Pepen\n"
     ]
    }
   ],
   "source": [
    "# Kerjakan soal nomor 1 disini\n",
    "\n",
    "inggris = 'Good Morning'\n",
    "prancis = 'Bonjour'\n",
    "italia = 'Buongiorno'\n",
    "spanyol = 'Buen día'\n",
    "jepang = 'おはよう'\n",
    "korea = '좋은 아침이에요'\n",
    "\n",
    "bhs = str(input('Kamu mau disapa pakai bahasa apa pagi ini? ada inggris, prancis, italia, spanyol, jepang, korea. Pilih salah satu ya, pilihanmu = '))\n",
    "nama = str(input('Namamu siapa manis? Namamu = '))\n",
    "\n",
    "if (bhs.lower() == 'inggris'):\n",
    "    print(f'{inggris}, {nama}')\n",
    "\n",
    "elif (bhs.lower() == 'prancis'):\n",
    "    print(f'{prancis}, {nama}')\n",
    "\n",
    "elif (bhs.lower() == 'italia'):\n",
    "    print(f'{italia}, {nama}')\n",
    "\n",
    "elif(bhs.lower() == 'spanyol'):\n",
    "    print(f'{spanyol}, {nama}')\n",
    "\n",
    "elif(bhs.lower() == 'jepang'):\n",
    "    print(f'{jepang}, {nama}')\n",
    "    \n",
    "elif(bhs.lower() == 'korea'):\n",
    "    print(f'{korea}, {nama}')\n",
    "\n",
    "else:\n",
    "    print('Yah ga disapa, typo kali tu')"
   ]
  },
  {
   "attachments": {},
   "cell_type": "markdown",
   "metadata": {},
   "source": [
    "## 2."
   ]
  },
  {
   "attachments": {},
   "cell_type": "markdown",
   "metadata": {},
   "source": [
    "Buatlah program perhitungan umur dengan menggunakan input user yaitu tahun lahir dari user.<br>\n",
    "<br>Output yang dihasilkan adalah sebagai berikut:\n",
    "<br>\"Apakah anda berasal dari masa depan?\"\n",
    "<br>\"Anda barusaja lahir\"\n",
    "<br>\"Umur Anda adalah xx tahun\"\n",
    "> *note: Kerjakan soal ini dengan percabangan*"
   ]
  },
  {
   "cell_type": "code",
   "execution_count": 2,
   "metadata": {},
   "outputs": [
    {
     "name": "stdout",
     "output_type": "stream",
     "text": [
      "Apakah anda berasal dari masa depan?\n"
     ]
    }
   ],
   "source": [
    "# Kerjakan soal nomor 2 disini\n",
    "\n",
    "tahun = int(input('Masukkan tahun lahir anda = '))\n",
    "\n",
    "if (tahun > 2023):\n",
    "    print('Apakah anda berasal dari masa depan?')\n",
    "elif (tahun == 2023):\n",
    "    print('Anda baru saja lahir')\n",
    "else:\n",
    "    print(f'Umur Anda adalah {2023 - tahun} tahun')"
   ]
  }
 ],
 "metadata": {
  "kernelspec": {
   "display_name": "Python 3",
   "language": "python",
   "name": "python3"
  },
  "language_info": {
   "codemirror_mode": {
    "name": "ipython",
    "version": 3
   },
   "file_extension": ".py",
   "mimetype": "text/x-python",
   "name": "python",
   "nbconvert_exporter": "python",
   "pygments_lexer": "ipython3",
   "version": "3.10.7"
  },
  "orig_nbformat": 4
 },
 "nbformat": 4,
 "nbformat_minor": 2
}
