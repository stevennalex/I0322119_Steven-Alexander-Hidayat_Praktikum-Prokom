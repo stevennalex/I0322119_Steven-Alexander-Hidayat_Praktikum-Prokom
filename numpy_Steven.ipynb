{
  "nbformat": 4,
  "nbformat_minor": 0,
  "metadata": {
    "colab": {
      "provenance": [],
      "authorship_tag": "ABX9TyML7HYrPJjMqSYqn72azr+W",
      "include_colab_link": true
    },
    "kernelspec": {
      "name": "python3",
      "display_name": "Python 3"
    },
    "language_info": {
      "name": "python"
    }
  },
  "cells": [
    {
      "cell_type": "markdown",
      "metadata": {
        "id": "view-in-github",
        "colab_type": "text"
      },
      "source": [
        "<a href=\"https://colab.research.google.com/github/stevennalex/I0322119_Steven-Alexander-Hidayat_ProgramaKomputer/blob/main/numpy_Steven.ipynb\" target=\"_parent\"><img src=\"https://colab.research.google.com/assets/colab-badge.svg\" alt=\"Open In Colab\"/></a>"
      ]
    },
    {
      "cell_type": "code",
      "execution_count": 8,
      "metadata": {
        "colab": {
          "base_uri": "https://localhost:8080/"
        },
        "id": "jVTd7BLcQXr_",
        "outputId": "663bbed7-b6dd-4b85-84fe-dd1f6c497961"
      },
      "outputs": [
        {
          "output_type": "stream",
          "name": "stdout",
          "text": [
            "Jumlah pertambahan = [[ 3  1]\n",
            " [ 4 11]]\n",
            "Jumlah pengurangan = [[-1 -1]\n",
            " [ 2 -7]]\n",
            "Jumlah perkalian = [[ 2  1]\n",
            " [ 8 21]]\n",
            "2.0\n"
          ]
        }
      ],
      "source": [
        "import numpy as np\n",
        "\n",
        "matriksA = np.array([[1, 0], [3, 2]])\n",
        "matriksB = np.array([[2, 1], [1, 9]])\n",
        "\n",
        "matriksC = matriksA + matriksB\n",
        "matriksD = matriksA - matriksB\n",
        "matriksF = np.dot(matriksA, matriksB)\n",
        "matriksG = np.linalg.det(matriksA)\n",
        "\n",
        "print(f'Jumlah pertambahan = {matriksC}')\n",
        "print(f'Jumlah pengurangan = {matriksD}')\n",
        "print(f'Jumlah perkalian = {matriksF}')\n",
        "print(f'{matriksG}')"
      ]
    }
  ]
}